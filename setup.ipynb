{
 "cells": [
  {
   "cell_type": "code",
   "execution_count": 1,
   "id": "310740e5",
   "metadata": {},
   "outputs": [],
   "source": [
    "import sys\n",
    "import os\n",
    "import re\n",
    "import operator\n",
    "import csv\n",
    "import pandas as pd\n",
    "from collections import defaultdict\n",
    "from collections import OrderedDict\n",
    "\n",
    "start = re.compile(r'^Address Before a Joint Session.*')\n",
    "finish = re.compile(r'^NOTE:.*')\n",
    "line_pat = re.compile('.*')\n",
    "#Counting a 'true' word as anything 5 letters or longer\n",
    "word_pat = re.compile(r'\\b[a-zA-Z]{5,}')"
   ]
  },
  {
   "cell_type": "code",
   "execution_count": 2,
   "id": "7ca58683",
   "metadata": {},
   "outputs": [],
   "source": [
    "def get_speeches():\n",
    "    \"\"\" \n",
    "    Get a list of speeches in each directory\n",
    "    \"\"\"\n",
    "    speeches = []\n",
    "    for speech in os.listdir('.'):\n",
    "        if speech[-4:] != '.txt':\n",
    "            continue\n",
    "        speeches.append(speech)\n",
    "\n",
    "    return speeches\n",
    "\n",
    "def all_words_to_string(speech):\n",
    "    \"\"\"\n",
    "    For each speech we create a dictionary of all words and their counts.\n",
    "    Then we just export the indexes/words to a single list.\n",
    "    \"\"\"\n",
    "    \n",
    "    dic = {}\n",
    "    flag = False\n",
    "    with open(speech, \"r\") as f:\n",
    "        for line in f:\n",
    "            if not flag:\n",
    "                if start.match(line):\n",
    "                    flag = True\n",
    "                continue\n",
    "            if finish.match(line):\n",
    "                break\n",
    "            result = line_pat.findall(line)\n",
    "            result2 = word_pat.findall(line)\n",
    "            for line in result:\n",
    "                if result2:\n",
    "                    for word in result2:\n",
    "                        key1 = word.lower()\n",
    "                        if key1 not in dic:\n",
    "                            dic[key1] = 1\n",
    "                        else:\n",
    "                            dic[key1] += 1\n",
    "    \n",
    "    word_list = list(dic.keys())\n",
    "    word_list = ' '.join(word_list)\n",
    "    return word_list\n",
    "\n",
    "\n"
   ]
  },
  {
   "cell_type": "code",
   "execution_count": 3,
   "id": "e896f987",
   "metadata": {},
   "outputs": [],
   "source": [
    "categories = ['bush',\n",
    "              'clinton',\n",
    "              'obama',\n",
    "              'trump']"
   ]
  },
  {
   "cell_type": "code",
   "execution_count": 4,
   "id": "5e9ae86d",
   "metadata": {},
   "outputs": [],
   "source": [
    "data_dir = './data/train'\n",
    "os.chdir(data_dir)\n",
    "tup_list = []\n",
    "for i in categories:\n",
    "    os.chdir(i)\n",
    "    speeches = get_speeches()\n",
    "    for speech in speeches:\n",
    "        word_list = all_words_to_string(speech)\n",
    "        tup = (word_list, i)\n",
    "        tup_list.append(tup)  \n",
    "    os.chdir('..')\n",
    "       \n",
    "df = pd.DataFrame(tup_list, columns=['text','orator'])"
   ]
  },
  {
   "cell_type": "code",
   "execution_count": 6,
   "id": "ff1e5439",
   "metadata": {},
   "outputs": [],
   "source": [
    "df.to_csv('all_speeches.csv')"
   ]
  }
 ],
 "metadata": {
  "kernelspec": {
   "display_name": "Python 3 (ipykernel)",
   "language": "python",
   "name": "python3"
  },
  "language_info": {
   "codemirror_mode": {
    "name": "ipython",
    "version": 3
   },
   "file_extension": ".py",
   "mimetype": "text/x-python",
   "name": "python",
   "nbconvert_exporter": "python",
   "pygments_lexer": "ipython3",
   "version": "3.8.12"
  }
 },
 "nbformat": 4,
 "nbformat_minor": 5
}
