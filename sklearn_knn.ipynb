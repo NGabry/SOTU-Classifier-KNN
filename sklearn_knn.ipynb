{
 "cells": [
  {
   "cell_type": "markdown",
   "id": "13ab77be",
   "metadata": {},
   "source": [
    "# Assigning speeches to their proper orator\n"
   ]
  },
  {
   "cell_type": "code",
   "execution_count": 1,
   "id": "559c5e34",
   "metadata": {},
   "outputs": [],
   "source": [
    "import pandas as pd \n",
    "import numpy as np\n",
    "import matplotlib.pyplot as plt\n",
    "import random\n",
    "import pickle\n",
    "from sklearn.model_selection import train_test_split\n",
    "from sklearn.feature_extraction.text import CountVectorizer, TfidfVectorizer\n",
    "from sklearn.svm import SVC\n",
    "from sklearn.tree import DecisionTreeClassifier\n",
    "from sklearn.linear_model import LogisticRegression\n",
    "from sklearn.neighbors import KNeighborsClassifier\n",
    "from sklearn.naive_bayes import GaussianNB\n",
    "from sklearn.metrics import f1_score\n",
    "from sklearn.model_selection import GridSearchCV"
   ]
  },
  {
   "cell_type": "code",
   "execution_count": 2,
   "id": "fef5d4ca",
   "metadata": {},
   "outputs": [],
   "source": [
    "#Define custom speech class\n",
    "class Speech:\n",
    "    def __init__(self, text, orator):\n",
    "        self.text = text\n",
    "        self.orator = orator"
   ]
  },
  {
   "cell_type": "markdown",
   "id": "9c10410e",
   "metadata": {},
   "source": [
    "# Importing and preparing data"
   ]
  },
  {
   "cell_type": "code",
   "execution_count": 3,
   "id": "586aca7a",
   "metadata": {},
   "outputs": [
    {
     "data": {
      "text/plain": [
       "'clinton'"
      ]
     },
     "execution_count": 3,
     "metadata": {},
     "output_type": "execute_result"
    }
   ],
   "source": [
    "file_name = './data/all_speeches.csv'\n",
    "\n",
    "df = pd.read_csv(file_name)\n",
    "\n",
    "#Set each speech entry as custom class\n",
    "speeches = []\n",
    "for index, row in df.iterrows():\n",
    "    speech = {'text':row['text'], 'orator':row['orator']} \n",
    "    speeches.append(Speech(speech['text'], speech['orator']))\n",
    "\n",
    "speeches[99].orator # Change orator to text to access speech text data"
   ]
  },
  {
   "cell_type": "markdown",
   "id": "a55e5680",
   "metadata": {},
   "source": [
    "# Splitting training and testing sets"
   ]
  },
  {
   "cell_type": "code",
   "execution_count": 4,
   "id": "0491a5b4",
   "metadata": {},
   "outputs": [],
   "source": [
    "seed = 99\n",
    "train, test = train_test_split(speeches, test_size=.25, random_state=seed)"
   ]
  },
  {
   "cell_type": "code",
   "execution_count": 5,
   "id": "c26514c6",
   "metadata": {},
   "outputs": [],
   "source": [
    "train_x = [x.text for x in train]\n",
    "train_y = [x.orator for x in train]\n",
    "\n",
    "test_x = [x.text for x in test]\n",
    "test_y = [x.orator for x in test]"
   ]
  },
  {
   "cell_type": "markdown",
   "id": "f3f96259",
   "metadata": {},
   "source": [
    "# Vectorize with Bags of Words"
   ]
  },
  {
   "cell_type": "code",
   "execution_count": 6,
   "id": "94b44971",
   "metadata": {},
   "outputs": [],
   "source": [
    "# Define Bags of Words Count Vectorizer\n",
    "vectorizer = CountVectorizer()\n",
    "\n",
    "# Fit vectorizer to training data, and transformed to provide vectors\n",
    "train_x_vectors = vectorizer.fit_transform(train_x)\n",
    "\n",
    "test_x_vectors = vectorizer.transform(test_x)\n",
    "\n",
    "# Final Variables\n",
    "# train_x_vectors\n",
    "# train_y"
   ]
  },
  {
   "cell_type": "markdown",
   "id": "fd25693a",
   "metadata": {},
   "source": [
    "# Classification"
   ]
  },
  {
   "cell_type": "code",
   "execution_count": 7,
   "id": "7813f313",
   "metadata": {},
   "outputs": [],
   "source": [
    "categories = ['bush',\n",
    "              'clinton',\n",
    "              'obama',\n",
    "              'trump']"
   ]
  },
  {
   "cell_type": "markdown",
   "id": "bd1db322",
   "metadata": {},
   "source": [
    "#### K Nearest Neighbor"
   ]
  },
  {
   "cell_type": "code",
   "execution_count": 8,
   "id": "01203f9b",
   "metadata": {},
   "outputs": [
    {
     "name": "stdout",
     "output_type": "stream",
     "text": [
      "KNeighborsClassifier(n_neighbors=3) ACCURACY:  0.6142857142857143\n",
      "bush ACCURACY:  0.6530612244897959\n",
      "clinton ACCURACY:  0.7169811320754718\n",
      "obama ACCURACY:  0.4666666666666667\n",
      "trump ACCURACY:  0.25\n"
     ]
    }
   ],
   "source": [
    "cat_count = 0\n",
    "\n",
    "clf_knn = KNeighborsClassifier(n_neighbors=3)\n",
    "clf_knn.fit(train_x_vectors, train_y)\n",
    "\n",
    "# Accuracy readouts\n",
    "print(clf_knn,'ACCURACY: ', clf_knn.score(test_x_vectors, test_y))\n",
    "f1scores = (f1_score(test_y, \n",
    "               clf_knn.predict(test_x_vectors),\n",
    "               average=None, \n",
    "               labels=categories))\n",
    "for i in f1scores:\n",
    "    print(categories[cat_count]+' ACCURACY: ', i)\n",
    "    cat_count += 1"
   ]
  },
  {
   "cell_type": "markdown",
   "id": "292fe23e",
   "metadata": {},
   "source": [
    "# Saving the model"
   ]
  },
  {
   "cell_type": "code",
   "execution_count": 9,
   "id": "39c13b9c",
   "metadata": {},
   "outputs": [],
   "source": [
    "with open('./knn_model.pkl', 'wb') as f:\n",
    "    pickle.dump(clf_knn, f)"
   ]
  },
  {
   "cell_type": "code",
   "execution_count": 10,
   "id": "c325bb9e",
   "metadata": {},
   "outputs": [],
   "source": [
    "# Loading model\n",
    "# with open('/knn_model.pkl', 'rb') as f:\n",
    "#     loaded_clf_knn = pickle.load(f)"
   ]
  },
  {
   "cell_type": "markdown",
   "id": "01137616",
   "metadata": {},
   "source": [
    "# Evaluating different n_neighbor values\n"
   ]
  },
  {
   "cell_type": "code",
   "execution_count": 11,
   "id": "aef896d9",
   "metadata": {},
   "outputs": [
    {
     "name": "stdout",
     "output_type": "stream",
     "text": [
      "Highest accuracy:  0.6142857142857143\n",
      "K value : 3\n"
     ]
    }
   ],
   "source": [
    "k_range = range(1,50)\n",
    "accuracy_scores = []\n",
    "for k in k_range:\n",
    "    knn = KNeighborsClassifier(n_neighbors=k)\n",
    "    knn.fit(train_x_vectors, train_y)\n",
    "    accuracy_score = knn.score(test_x_vectors, test_y)\n",
    "    accuracy_scores.append(accuracy_score)\n",
    "    \n",
    "high_acc = (max(accuracy_scores))\n",
    "high_acc_id = accuracy_scores.index(high_acc)\n",
    "print('Highest accuracy: ',high_acc)\n",
    "print('K value :', high_acc_id+1)"
   ]
  },
  {
   "cell_type": "code",
   "execution_count": 12,
   "id": "73c4d60e",
   "metadata": {
    "scrolled": false
   },
   "outputs": [
    {
     "data": {
      "image/png": "[encoded data removed]",
      "text/plain": [
       "<Figure size 1152x648 with 1 Axes>"
      ]
     },
     "metadata": {
      "needs_background": "dark"
     },
     "output_type": "display_data"
    }
   ],
   "source": [
    "plt.figure(figsize=(16,9))\n",
    "plt.style.use('dark_background')\n",
    "plt.plot([i for i in k_range], accuracy_scores)\n",
    "plt.title('Classification Accuracy for Different values of K', fontsize = 30)\n",
    "plt.xlabel('Value of K', fontsize=20)\n",
    "plt.ylabel('Testing Accuracy', fontsize=20)\n",
    "plt.ylim(0,1.1)\n",
    "plt.savefig('figs/first_k_val_plot.png')"
   ]
  },
  {
   "cell_type": "markdown",
   "id": "a2e1495b",
   "metadata": {},
   "source": [
    "# Summary\n",
    "\n",
    "Overall we see that, at best, with our chosen parameters our model is assigning orators with an accuracy of %61.42, even when finding the best value for k. This model can likley be made better by altering how we currate our input data (i.e. how we have vectorized it, and the chunks size in which we put data in)! Lets now play around with altering the size of our input text cunks, as well as the size of what we consider a word. See the 'part2' notebooks for these investigations."
   ]
  }
 ],
 "metadata": {
  "kernelspec": {
   "display_name": "Python 3 (ipykernel)",
   "language": "python",
   "name": "python3"
  },
  "language_info": {
   "codemirror_mode": {
    "name": "ipython",
    "version": 3
   },
   "file_extension": ".py",
   "mimetype": "text/x-python",
   "name": "python",
   "nbconvert_exporter": "python",
   "pygments_lexer": "ipython3",
   "version": "3.8.12"
  }
 },
 "nbformat": 4,
 "nbformat_minor": 5
}
