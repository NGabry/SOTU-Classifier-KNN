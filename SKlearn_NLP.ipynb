{
 "cells": [
  {
   "cell_type": "markdown",
   "id": "13ab77be",
   "metadata": {},
   "source": [
    "# Assigning speeches to their proper orator\n"
   ]
  },
  {
   "cell_type": "code",
   "execution_count": 6,
   "id": "559c5e34",
   "metadata": {},
   "outputs": [],
   "source": [
    "import pandas as pd \n",
    "import numpy as np\n",
    "from sklearn.model_selection import train_test_split"
   ]
  },
  {
   "cell_type": "code",
   "execution_count": 3,
   "id": "fef5d4ca",
   "metadata": {},
   "outputs": [],
   "source": [
    "#Define custom speech class\n",
    "class Speech:\n",
    "    def __init__(self, text, orator):\n",
    "        self.text = text\n",
    "        self.orator = orator"
   ]
  },
  {
   "cell_type": "markdown",
   "id": "9c10410e",
   "metadata": {},
   "source": [
    "# Importing and preparing data"
   ]
  },
  {
   "cell_type": "code",
   "execution_count": 5,
   "id": "586aca7a",
   "metadata": {},
   "outputs": [
    {
     "data": {
      "text/plain": [
       "'clinton'"
      ]
     },
     "execution_count": 5,
     "metadata": {},
     "output_type": "execute_result"
    }
   ],
   "source": [
    "file_name = './data/all_speeches.csv'\n",
    "\n",
    "df = pd.read_csv(file_name)\n",
    "\n",
    "#Set each speech entry as custom class\n",
    "speeches = []\n",
    "for index, row in df.iterrows():\n",
    "    speech = {'text':row['text'], 'orator':row['orator']} \n",
    "    speeches.append(Speech(speech['text'], speech['orator']))\n",
    "\n",
    "speeches[99].orator # Change orator to text to access speech text data"
   ]
  },
  {
   "cell_type": "markdown",
   "id": "a55e5680",
   "metadata": {},
   "source": [
    "# Splitting training and testing sets"
   ]
  },
  {
   "cell_type": "code",
   "execution_count": 13,
   "id": "0491a5b4",
   "metadata": {},
   "outputs": [],
   "source": [
    "seed = 47\n",
    "train, test = train_test_split(speeches, test_size=.25, random_state=seed)"
   ]
  },
  {
   "cell_type": "code",
   "execution_count": 15,
   "id": "c26514c6",
   "metadata": {},
   "outputs": [
    {
     "data": {
      "text/plain": [
       "'bush'"
      ]
     },
     "execution_count": 15,
     "metadata": {},
     "output_type": "execute_result"
    }
   ],
   "source": [
    "train_x = [x.text for x in train]\n",
    "train_y = [x.orator for x in train]\n"
   ]
  },
  {
   "cell_type": "code",
   "execution_count": null,
   "id": "d1673836",
   "metadata": {},
   "outputs": [],
   "source": []
  }
 ],
 "metadata": {
  "kernelspec": {
   "display_name": "Python 3 (ipykernel)",
   "language": "python",
   "name": "python3"
  },
  "language_info": {
   "codemirror_mode": {
    "name": "ipython",
    "version": 3
   },
   "file_extension": ".py",
   "mimetype": "text/x-python",
   "name": "python",
   "nbconvert_exporter": "python",
   "pygments_lexer": "ipython3",
   "version": "3.8.12"
  }
 },
 "nbformat": 4,
 "nbformat_minor": 5
}
